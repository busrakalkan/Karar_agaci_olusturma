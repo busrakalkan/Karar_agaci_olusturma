{
 "cells": [
  {
   "cell_type": "code",
   "execution_count": 1,
   "metadata": {},
   "outputs": [],
   "source": [
    "import numpy as np\n",
    "import pandas as pd\n",
    "from sklearn.model_selection import train_test_split\n",
    "import pydot"
   ]
  },
  {
   "cell_type": "code",
   "execution_count": 2,
   "metadata": {},
   "outputs": [],
   "source": [
    "def find_entropy(df):\n",
    "    target = df.keys()[-1]\n",
    "    values,counts = np.unique(df[target],return_counts=True)#target'daki ifadeleri adetleriyle beraber al \n",
    "    entropy = 0\n",
    "    for i in range(len(values)):\n",
    "        fraction =counts[i]/len(df[target]) #target'daki bir değerin sayısı/df uzunluğu\n",
    "        entropy += -fraction*np.log2(fraction) #target değerine göre entropy hesabı\n",
    "    return entropy"
   ]
  },
  {
   "cell_type": "code",
   "execution_count": 3,
   "metadata": {},
   "outputs": [],
   "source": [
    "def find_entropy_arg(df,arg):\n",
    "    target = df.keys()[-1]\n",
    "    value_1,counts_1 = np.unique(df[arg],return_counts=True) #arg sütununu değerlerini sayılarıyla beraber al\n",
    "    entropy=0\n",
    "    for i in range(len(counts_1)):\n",
    "        frac=counts_1[i]/len(df) #bir değerin adedi/df uzunluğu\n",
    "        table=get_subtable(df,arg,value_1[i]) #her bir değere göre subtable oluştur\n",
    "        value_2,counts_2 = np.unique(table[target],return_counts=True) #subtable'da target değerlerini adetleriyle beraber al\n",
    "        ent=0\n",
    "        for j in counts_2:\n",
    "            frac2 = j/len(table) #target'daki bir değerin sayısı/subtable uzunluğu\n",
    "            ent += frac2*np.log2(frac2) #target'daki bir değer için entropy hesabı\n",
    "            \n",
    "        entropy+=frac*ent #df'deki bir sütun için entropy hesabı\n",
    "    return -entropy"
   ]
  },
  {
   "cell_type": "code",
   "execution_count": 4,
   "metadata": {},
   "outputs": [],
   "source": [
    "def find_node(df):\n",
    "    columns=df.keys()[:-1]\n",
    "    gain_list = []\n",
    "    for column in columns:\n",
    "        gain_list.append(find_entropy(df)-find_entropy_arg(df,column)) #her bir sütün için kazanç hesaplayıp listeye ekleme\n",
    "        \n",
    "    index=np.argmax(gain_list)#max kazanç değerinin indexi\n",
    "    node=columns[index] # kazancı max olan sütunun node olarak return edilmesi\n",
    "    \n",
    "    return node"
   ]
  },
  {
   "cell_type": "code",
   "execution_count": 5,
   "metadata": {},
   "outputs": [],
   "source": [
    "def get_subtable(df, node,value):\n",
    "    # node sütununda value değerine sahip satırların table olarak atanması\n",
    "    table=df[df[node] == value].reset_index(drop=True)\n",
    "    return table"
   ]
  },
  {
   "cell_type": "code",
   "execution_count": 6,
   "metadata": {},
   "outputs": [],
   "source": [
    "def buildTree(df,tree=None): \n",
    "    target = df.keys()[-1] #target sütunu belirle\n",
    "    \n",
    "    node = find_node(df) #dallanacak sütunu bul\n",
    "    \n",
    "    sub_values = set(df[node]) #sütunun değerlerini al\n",
    "        \n",
    "    if tree is None: #fonksiyon ilk defa çağrılıyorsa ağaç oluştur                    \n",
    "        tree={}\n",
    "        tree[node] = {}\n",
    "        \n",
    "    for value in sub_values:\n",
    "        #düğümün değerine göre subtable oluştur\n",
    "        subtable = get_subtable(df,node,value) \n",
    "        \n",
    "        #subtable'ın target değerlerini sayılarıyla beraber al     \n",
    "        subtable_value,counts = np.unique(subtable[target],return_counts=True)          \n",
    "        \n",
    "        if len(counts)==1:#counts 1 ise target'daki değerler aynıdır \n",
    "            tree[node][value] = subtable_value[0]    #dallanmayı sonlandır                                                \n",
    "        else:        \n",
    "            tree[node][value] = buildTree(subtable) #target'da tek bir değer olmadığı için dallanmayı sürdür\n",
    "                   \n",
    "    return tree"
   ]
  },
  {
   "cell_type": "code",
   "execution_count": 7,
   "metadata": {},
   "outputs": [],
   "source": [
    "#görselleştirme kısmı\n",
    "def draw(parent_name, child_name):\n",
    "    edge = pydot.Edge(parent_name, child_name)\n",
    "    graph.add_edge(edge)\n",
    "def visit(node, parent=None):\n",
    "    for k,v in node.items():\n",
    "        if(type(k)!=dict):\n",
    "            k=str(k)\n",
    "        if(type(v)!=dict):\n",
    "            v=str(v)\n",
    "        \n",
    "        if isinstance(v, dict):\n",
    "            if parent:\n",
    "                draw(parent, k)\n",
    "            visit(v, k)\n",
    "        else:\n",
    "            draw(parent, k)\n",
    "            draw(k, k+'_'+v)\n",
    "      \n"
   ]
  },
  {
   "cell_type": "code",
   "execution_count": 8,
   "metadata": {},
   "outputs": [],
   "source": [
    "df = pd.read_csv('netflix_titles.csv')\n",
    "y=df[\"rating\"]"
   ]
  },
  {
   "cell_type": "code",
   "execution_count": 9,
   "metadata": {},
   "outputs": [],
   "source": [
    "#kullanılmayan sütnlar silindi\n",
    "dropList = [\"description\",\"date_added\",\"show_id\",\"title\",\"cast\",\"rating\"]\n",
    "df.drop(dropList, axis=1, inplace=True)"
   ]
  },
  {
   "cell_type": "code",
   "execution_count": 10,
   "metadata": {},
   "outputs": [],
   "source": [
    "#rating sütununun dataframein en sonunda yer alması sağlandı\n",
    "df[\"rating\"]=y"
   ]
  },
  {
   "cell_type": "code",
   "execution_count": 11,
   "metadata": {},
   "outputs": [],
   "source": [
    "#nan değerler veri setinden silindi\n",
    "df=df.dropna()\n",
    "df = df.reset_index(drop=True)"
   ]
  },
  {
   "cell_type": "code",
   "execution_count": 12,
   "metadata": {},
   "outputs": [],
   "source": [
    "#veri train ve test olarak ikiye bölünür\n",
    "X_train, X_test= train_test_split(df, test_size=0.3, random_state=42)"
   ]
  },
  {
   "cell_type": "code",
   "execution_count": 13,
   "metadata": {},
   "outputs": [],
   "source": [
    "#X_train için karar ağacı oluşturulur\n",
    "tree=buildTree(X_train)"
   ]
  },
  {
   "cell_type": "code",
   "execution_count": 14,
   "metadata": {},
   "outputs": [],
   "source": [
    "#ağaç görselleştirilir\n",
    "graph = pydot.Dot(graph_type='graph')\n",
    "visit(tree)\n",
    "graph.write_png('tree_graph.png',encoding='utf-8')"
   ]
  },
  {
   "cell_type": "code",
   "execution_count": 15,
   "metadata": {},
   "outputs": [],
   "source": [
    "#datasetin tamamıyla yapılan png çok büyük ve anlaşılması güç\n",
    "#görselleştirme fonksiyonun işleyişini göstermek için küçük bir ağaç çizdirildi\n",
    "small_tree=buildTree(X_train.head(100))\n",
    "graph = pydot.Dot(graph_type='graph')\n",
    "visit(small_tree)\n",
    "graph.write_png('small_tree_graph.png',encoding='utf-8')"
   ]
  },
  {
   "cell_type": "code",
   "execution_count": null,
   "metadata": {},
   "outputs": [],
   "source": []
  }
 ],
 "metadata": {
  "kernelspec": {
   "display_name": "Python 3",
   "language": "python",
   "name": "python3"
  },
  "language_info": {
   "codemirror_mode": {
    "name": "ipython",
    "version": 3
   },
   "file_extension": ".py",
   "mimetype": "text/x-python",
   "name": "python",
   "nbconvert_exporter": "python",
   "pygments_lexer": "ipython3",
   "version": "3.7.6"
  }
 },
 "nbformat": 4,
 "nbformat_minor": 4
}
